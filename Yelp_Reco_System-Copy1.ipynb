{
 "cells": [
  {
   "cell_type": "code",
   "execution_count": 1,
   "metadata": {},
   "outputs": [],
   "source": [
    "import pandas as pd\n",
    "from six.moves import cPickle\n",
    "import numpy as np\n",
    "from scipy.sparse import csr_matrix\n",
    "from sklearn.decomposition import TruncatedSVD\n",
    "from scipy.sparse.linalg import svds\n",
    "import matplotlib.pyplot as plt\n",
    "from sklearn.metrics import mean_squared_error\n",
    "%matplotlib inline"
   ]
  },
  {
   "cell_type": "markdown",
   "metadata": {},
   "source": [
    "# 1. Data Loading"
   ]
  },
  {
   "cell_type": "markdown",
   "metadata": {},
   "source": [
    "Loading the review data file and business file"
   ]
  },
  {
   "cell_type": "code",
   "execution_count": 2,
   "metadata": {},
   "outputs": [],
   "source": [
    "df_full = pd.read_csv('/Users/chipchop/Documents/SINA/yelp_academic_dataset_review.csv', low_memory=False)"
   ]
  },
  {
   "cell_type": "code",
   "execution_count": 3,
   "metadata": {
    "scrolled": true
   },
   "outputs": [
    {
     "data": {
      "text/html": [
       "<div>\n",
       "<style scoped>\n",
       "    .dataframe tbody tr th:only-of-type {\n",
       "        vertical-align: middle;\n",
       "    }\n",
       "\n",
       "    .dataframe tbody tr th {\n",
       "        vertical-align: top;\n",
       "    }\n",
       "\n",
       "    .dataframe thead th {\n",
       "        text-align: right;\n",
       "    }\n",
       "</style>\n",
       "<table border=\"1\" class=\"dataframe\">\n",
       "  <thead>\n",
       "    <tr style=\"text-align: right;\">\n",
       "      <th></th>\n",
       "      <th>business_id</th>\n",
       "      <th>cool</th>\n",
       "      <th>date</th>\n",
       "      <th>funny</th>\n",
       "      <th>review_id</th>\n",
       "      <th>stars</th>\n",
       "      <th>text</th>\n",
       "      <th>type</th>\n",
       "      <th>useful</th>\n",
       "      <th>user_id</th>\n",
       "    </tr>\n",
       "  </thead>\n",
       "  <tbody>\n",
       "    <tr>\n",
       "      <th>0</th>\n",
       "      <td>2aFiy99vNLklCx3T_tGS9A</td>\n",
       "      <td>0</td>\n",
       "      <td>2011-10-10</td>\n",
       "      <td>0</td>\n",
       "      <td>NxL8SIC5yqOdnlXCg18IBg</td>\n",
       "      <td>5.0</td>\n",
       "      <td>If you enjoy service by someone who is as comp...</td>\n",
       "      <td>review</td>\n",
       "      <td>0.0</td>\n",
       "      <td>KpkOkG6RIf4Ra25Lhhxf1A</td>\n",
       "    </tr>\n",
       "    <tr>\n",
       "      <th>1</th>\n",
       "      <td>2aFiy99vNLklCx3T_tGS9A</td>\n",
       "      <td>0</td>\n",
       "      <td>2010-12-29</td>\n",
       "      <td>0</td>\n",
       "      <td>pXbbIgOXvLuTi_SPs1hQEQ</td>\n",
       "      <td>5.0</td>\n",
       "      <td>After being on the phone with Verizon Wireless...</td>\n",
       "      <td>review</td>\n",
       "      <td>1.0</td>\n",
       "      <td>bQ7fQq1otn9hKX-gXRsrgA</td>\n",
       "    </tr>\n",
       "    <tr>\n",
       "      <th>2</th>\n",
       "      <td>2aFiy99vNLklCx3T_tGS9A</td>\n",
       "      <td>0</td>\n",
       "      <td>2011-04-29</td>\n",
       "      <td>0</td>\n",
       "      <td>wslW2Lu4NYylb1jEapAGsw</td>\n",
       "      <td>5.0</td>\n",
       "      <td>Great service! Corey is very service oriented....</td>\n",
       "      <td>review</td>\n",
       "      <td>0.0</td>\n",
       "      <td>r1NUhdNmL6yU9Bn-Yx6FTw</td>\n",
       "    </tr>\n",
       "    <tr>\n",
       "      <th>3</th>\n",
       "      <td>2LfIuF3_sX6uwe-IR-P0jQ</td>\n",
       "      <td>1</td>\n",
       "      <td>2014-07-14</td>\n",
       "      <td>0</td>\n",
       "      <td>GP6YEearUWrzPtQYSF1vVg</td>\n",
       "      <td>5.0</td>\n",
       "      <td>Highly recommended. Went in yesterday looking ...</td>\n",
       "      <td>review</td>\n",
       "      <td>0.0</td>\n",
       "      <td>aW3ix1KNZAvoM8q-WghA3Q</td>\n",
       "    </tr>\n",
       "    <tr>\n",
       "      <th>4</th>\n",
       "      <td>2LfIuF3_sX6uwe-IR-P0jQ</td>\n",
       "      <td>0</td>\n",
       "      <td>2014-01-15</td>\n",
       "      <td>0</td>\n",
       "      <td>25RlYGq2s5qShi-pn3ufVA</td>\n",
       "      <td>4.0</td>\n",
       "      <td>I walked in here looking for a specific piece ...</td>\n",
       "      <td>review</td>\n",
       "      <td>0.0</td>\n",
       "      <td>YOo-Cip8HqvKp_p9nEGphw</td>\n",
       "    </tr>\n",
       "  </tbody>\n",
       "</table>\n",
       "</div>"
      ],
      "text/plain": [
       "              business_id cool        date funny               review_id  \\\n",
       "0  2aFiy99vNLklCx3T_tGS9A    0  2011-10-10     0  NxL8SIC5yqOdnlXCg18IBg   \n",
       "1  2aFiy99vNLklCx3T_tGS9A    0  2010-12-29     0  pXbbIgOXvLuTi_SPs1hQEQ   \n",
       "2  2aFiy99vNLklCx3T_tGS9A    0  2011-04-29     0  wslW2Lu4NYylb1jEapAGsw   \n",
       "3  2LfIuF3_sX6uwe-IR-P0jQ    1  2014-07-14     0  GP6YEearUWrzPtQYSF1vVg   \n",
       "4  2LfIuF3_sX6uwe-IR-P0jQ    0  2014-01-15     0  25RlYGq2s5qShi-pn3ufVA   \n",
       "\n",
       "   stars                                               text    type  useful  \\\n",
       "0    5.0  If you enjoy service by someone who is as comp...  review     0.0   \n",
       "1    5.0  After being on the phone with Verizon Wireless...  review     1.0   \n",
       "2    5.0  Great service! Corey is very service oriented....  review     0.0   \n",
       "3    5.0  Highly recommended. Went in yesterday looking ...  review     0.0   \n",
       "4    4.0  I walked in here looking for a specific piece ...  review     0.0   \n",
       "\n",
       "                  user_id  \n",
       "0  KpkOkG6RIf4Ra25Lhhxf1A  \n",
       "1  bQ7fQq1otn9hKX-gXRsrgA  \n",
       "2  r1NUhdNmL6yU9Bn-Yx6FTw  \n",
       "3  aW3ix1KNZAvoM8q-WghA3Q  \n",
       "4  YOo-Cip8HqvKp_p9nEGphw  "
      ]
     },
     "execution_count": 3,
     "metadata": {},
     "output_type": "execute_result"
    }
   ],
   "source": [
    "df_full.head()"
   ]
  },
  {
   "cell_type": "code",
   "execution_count": 4,
   "metadata": {},
   "outputs": [],
   "source": [
    "df_bus = pd.read_csv('/Users/chipchop/Documents/SINA/yelp_academic_dataset_business.csv')"
   ]
  },
  {
   "cell_type": "code",
   "execution_count": 5,
   "metadata": {},
   "outputs": [
    {
     "name": "stdout",
     "output_type": "stream",
     "text": [
      "Columns in business data file are:\n",
      "address\n",
      "attribute_AcceptsInsurance\n",
      "attribute_AgesAllowed\n",
      "attribute_Alcohol\n",
      "attribute_Ambience_casual\n",
      "attribute_Ambience_classy\n",
      "attribute_Ambience_divey\n",
      "attribute_Ambience_hipster\n",
      "attribute_Ambience_intimate\n",
      "attribute_Ambience_romantic\n",
      "attribute_Ambience_touristy\n",
      "attribute_Ambience_trendy\n",
      "attribute_Ambience_upscale\n",
      "attribute_BYOB\n",
      "attribute_BYOBCorkage\n",
      "attribute_BestNights_friday\n",
      "attribute_BestNights_monday\n",
      "attribute_BestNights_saturday\n",
      "attribute_BestNights_sunday\n",
      "attribute_BestNights_thursday\n",
      "attribute_BestNights_tuesday\n",
      "attribute_BestNights_wednesday\n",
      "attribute_BikeParking\n",
      "attribute_BusinessAcceptsBitcoin\n",
      "attribute_BusinessAcceptsCreditCards\n",
      "attribute_BusinessParking_garage\n",
      "attribute_BusinessParking_lot\n",
      "attribute_BusinessParking_street\n",
      "attribute_BusinessParking_valet\n",
      "attribute_BusinessParking_validated\n",
      "attribute_ByAppointmentOnly\n",
      "attribute_Caters\n",
      "attribute_CoatCheck\n",
      "attribute_Corkage\n",
      "attribute_DietaryRestrictions_dairy-free\n",
      "attribute_DietaryRestrictions_gluten-free\n",
      "attribute_DietaryRestrictions_halal\n",
      "attribute_DietaryRestrictions_kosher\n",
      "attribute_DietaryRestrictions_soy-free\n",
      "attribute_DietaryRestrictions_vegan\n",
      "attribute_DietaryRestrictions_vegetarian\n",
      "attribute_DogsAllowed\n",
      "attribute_DriveThru\n",
      "attribute_GoodForDancing\n",
      "attribute_GoodForKids\n",
      "attribute_GoodForMeal_breakfast\n",
      "attribute_GoodForMeal_brunch\n",
      "attribute_GoodForMeal_dessert\n",
      "attribute_GoodForMeal_dinner\n",
      "attribute_GoodForMeal_latenight\n",
      "attribute_GoodForMeal_lunch\n",
      "attribute_HairSpecializesIn_africanamerican\n",
      "attribute_HairSpecializesIn_asian\n",
      "attribute_HairSpecializesIn_coloring\n",
      "attribute_HairSpecializesIn_curly\n",
      "attribute_HairSpecializesIn_extensions\n",
      "attribute_HairSpecializesIn_kids\n",
      "attribute_HairSpecializesIn_perms\n",
      "attribute_HairSpecializesIn_straightperms\n",
      "attribute_HappyHour\n",
      "attribute_HasTV\n",
      "attribute_Music_background_music\n",
      "attribute_Music_dj\n",
      "attribute_Music_jukebox\n",
      "attribute_Music_karaoke\n",
      "attribute_Music_live\n",
      "attribute_Music_no_music\n",
      "attribute_Music_video\n",
      "attribute_NoiseLevel\n",
      "attribute_Open24Hours\n",
      "attribute_OutdoorSeating\n",
      "attribute_RestaurantsAttire\n",
      "attribute_RestaurantsCounterService\n",
      "attribute_RestaurantsDelivery\n",
      "attribute_RestaurantsGoodForGroups\n",
      "attribute_RestaurantsPriceRange2\n",
      "attribute_RestaurantsReservations\n",
      "attribute_RestaurantsTableService\n",
      "attribute_RestaurantsTakeOut\n",
      "attribute_Smoking\n",
      "attribute_WheelchairAccessible\n",
      "attribute_WiFi\n",
      "business_id\n",
      "categories\n",
      "city\n",
      "hours_Friday\n",
      "hours_Monday\n",
      "hours_Saturday\n",
      "hours_Sunday\n",
      "hours_Thursday\n",
      "hours_Tuesday\n",
      "hours_Wednesday\n",
      "is_open\n",
      "latitude\n",
      "longitude\n",
      "name\n",
      "neighborhood\n",
      "postal_code\n",
      "review_count\n",
      "stars\n",
      "state\n",
      "type\n"
     ]
    }
   ],
   "source": [
    "print(\"Columns in business data file are:\")\n",
    "for i in df_bus.columns:\n",
    "    print(i)"
   ]
  },
  {
   "cell_type": "markdown",
   "metadata": {},
   "source": [
    "# 2. Data Exploration, Data Cleaning and Matrix Building "
   ]
  },
  {
   "cell_type": "markdown",
   "metadata": {},
   "source": [
    "## 2.a. Number of businesses in each city:"
   ]
  },
  {
   "cell_type": "code",
   "execution_count": 6,
   "metadata": {},
   "outputs": [
    {
     "data": {
      "text/plain": [
       "<matplotlib.axes._subplots.AxesSubplot at 0x1a27bdfd68>"
      ]
     },
     "execution_count": 6,
     "metadata": {},
     "output_type": "execute_result"
    },
    {
     "data": {
      "image/png": "[encoded data removed]",
      "text/plain": [
       "<Figure size 432x288 with 1 Axes>"
      ]
     },
     "metadata": {
      "needs_background": "light"
     },
     "output_type": "display_data"
    }
   ],
   "source": [
    "df_bus_groups = df_bus.groupby('city').count()\n",
    "df_bus_city = df_bus_groups['name']\n",
    "df_bus_city_sorted = df_bus_city.sort_values(ascending = False)\n",
    "df_bus_city_sorted[:30].plot(kind = 'bar', color={'C0', 'C1', 'C2', 'C3', 'C4', 'C5', 'C6', 'C7', 'C8', 'C9'})"
   ]
  },
  {
   "cell_type": "markdown",
   "metadata": {},
   "source": [
    "## 2.b. Different Type of Businesses and their Count:"
   ]
  },
  {
   "cell_type": "code",
   "execution_count": 7,
   "metadata": {},
   "outputs": [
    {
     "data": {
      "text/plain": [
       "<matplotlib.axes._subplots.AxesSubplot at 0x1a1b685240>"
      ]
     },
     "execution_count": 7,
     "metadata": {},
     "output_type": "execute_result"
    },
    {
     "data": {
      "image/png": "[encoded data removed]",
      "text/plain": [
       "<Figure size 432x288 with 1 Axes>"
      ]
     },
     "metadata": {
      "needs_background": "light"
     },
     "output_type": "display_data"
    }
   ],
   "source": [
    "uniq_cat_dict = {}\n",
    "for i in df_bus.categories:\n",
    "    cat = str(i).split(',')\n",
    "    for j in cat:\n",
    "        if j not in uniq_cat_dict.keys():\n",
    "            uniq_cat_dict[j] = 1\n",
    "        else:\n",
    "            uniq_cat_dict[j] += 1\n",
    "uniq_cat_series = pd.Series(uniq_cat_dict)\n",
    "uniq_cat_series.sort_values(ascending = False, inplace = True)\n",
    "uniq_cat_series[:30].plot(kind = 'bar', color={'C0', 'C1', 'C2', 'C3', 'C4', 'C5', 'C6', 'C7', 'C8', 'C9'})"
   ]
  },
  {
   "cell_type": "markdown",
   "metadata": {},
   "source": [
    "## 2.c. Business and City Ordered pairs and their count:"
   ]
  },
  {
   "cell_type": "code",
   "execution_count": 8,
   "metadata": {},
   "outputs": [
    {
     "data": {
      "text/plain": [
       "<matplotlib.axes._subplots.AxesSubplot at 0x1a1e2bc4a8>"
      ]
     },
     "execution_count": 8,
     "metadata": {},
     "output_type": "execute_result"
    },
    {
     "data": {
      "image/png": "[encoded data removed]",
      "text/plain": [
       "<Figure size 432x288 with 1 Axes>"
      ]
     },
     "metadata": {
      "needs_background": "light"
     },
     "output_type": "display_data"
    }
   ],
   "source": [
    "business_city = {}\n",
    "n = len(df_bus)\n",
    "for i in range(n):\n",
    "    k1 = str(df_bus.categories.iloc[i]).split(',')\n",
    "    k2 = df_bus.city.iloc[i]\n",
    "    for j in k1:\n",
    "        k = (j,k2)\n",
    "        if k not in business_city.keys():\n",
    "            business_city[k] = 1\n",
    "        else:\n",
    "            business_city[k] += 1\n",
    "business_city_series = pd.Series(business_city)\n",
    "business_city_series.sort_values(ascending = False, inplace = True)\n",
    "business_city_series[:30].plot(kind = 'bar', color={'C0', 'C1', 'C2', 'C3', 'C4', 'C5', 'C6', 'C7', 'C8', 'C9'})"
   ]
  },
  {
   "cell_type": "markdown",
   "metadata": {},
   "source": [
    "## Inferences from 2.a, 2.b and 2.c"
   ]
  },
  {
   "cell_type": "markdown",
   "metadata": {},
   "source": [
    "It can be seen that most of the businesses listed on the Yelp are Restaurants, Shopping places and Recreational Centers. For this given data set (obtained from Yelp's Website), top cities with maximum businesses are Las Vegas, Phoenix, and Toronto."
   ]
  },
  {
   "cell_type": "markdown",
   "metadata": {},
   "source": [
    "## 2.d. Cleaning the review data"
   ]
  },
  {
   "cell_type": "markdown",
   "metadata": {},
   "source": [
    "Dropping the unwanted columns like 'text': review text, 'useful': Number of people rated it useful, 'date',etc.\n",
    "The columns left are 'user_id', 'business_id' and 'stars'."
   ]
  },
  {
   "cell_type": "code",
   "execution_count": 9,
   "metadata": {},
   "outputs": [
    {
     "data": {
      "text/html": [
       "<div>\n",
       "<style scoped>\n",
       "    .dataframe tbody tr th:only-of-type {\n",
       "        vertical-align: middle;\n",
       "    }\n",
       "\n",
       "    .dataframe tbody tr th {\n",
       "        vertical-align: top;\n",
       "    }\n",
       "\n",
       "    .dataframe thead th {\n",
       "        text-align: right;\n",
       "    }\n",
       "</style>\n",
       "<table border=\"1\" class=\"dataframe\">\n",
       "  <thead>\n",
       "    <tr style=\"text-align: right;\">\n",
       "      <th></th>\n",
       "      <th>business_id</th>\n",
       "      <th>review_id</th>\n",
       "      <th>stars</th>\n",
       "      <th>text</th>\n",
       "      <th>type</th>\n",
       "      <th>user_id</th>\n",
       "    </tr>\n",
       "  </thead>\n",
       "  <tbody>\n",
       "    <tr>\n",
       "      <th>0</th>\n",
       "      <td>2aFiy99vNLklCx3T_tGS9A</td>\n",
       "      <td>NxL8SIC5yqOdnlXCg18IBg</td>\n",
       "      <td>5.0</td>\n",
       "      <td>If you enjoy service by someone who is as comp...</td>\n",
       "      <td>review</td>\n",
       "      <td>KpkOkG6RIf4Ra25Lhhxf1A</td>\n",
       "    </tr>\n",
       "    <tr>\n",
       "      <th>1</th>\n",
       "      <td>2aFiy99vNLklCx3T_tGS9A</td>\n",
       "      <td>pXbbIgOXvLuTi_SPs1hQEQ</td>\n",
       "      <td>5.0</td>\n",
       "      <td>After being on the phone with Verizon Wireless...</td>\n",
       "      <td>review</td>\n",
       "      <td>bQ7fQq1otn9hKX-gXRsrgA</td>\n",
       "    </tr>\n",
       "    <tr>\n",
       "      <th>2</th>\n",
       "      <td>2aFiy99vNLklCx3T_tGS9A</td>\n",
       "      <td>wslW2Lu4NYylb1jEapAGsw</td>\n",
       "      <td>5.0</td>\n",
       "      <td>Great service! Corey is very service oriented....</td>\n",
       "      <td>review</td>\n",
       "      <td>r1NUhdNmL6yU9Bn-Yx6FTw</td>\n",
       "    </tr>\n",
       "    <tr>\n",
       "      <th>3</th>\n",
       "      <td>2LfIuF3_sX6uwe-IR-P0jQ</td>\n",
       "      <td>GP6YEearUWrzPtQYSF1vVg</td>\n",
       "      <td>5.0</td>\n",
       "      <td>Highly recommended. Went in yesterday looking ...</td>\n",
       "      <td>review</td>\n",
       "      <td>aW3ix1KNZAvoM8q-WghA3Q</td>\n",
       "    </tr>\n",
       "    <tr>\n",
       "      <th>4</th>\n",
       "      <td>2LfIuF3_sX6uwe-IR-P0jQ</td>\n",
       "      <td>25RlYGq2s5qShi-pn3ufVA</td>\n",
       "      <td>4.0</td>\n",
       "      <td>I walked in here looking for a specific piece ...</td>\n",
       "      <td>review</td>\n",
       "      <td>YOo-Cip8HqvKp_p9nEGphw</td>\n",
       "    </tr>\n",
       "  </tbody>\n",
       "</table>\n",
       "</div>"
      ],
      "text/plain": [
       "              business_id               review_id  stars  \\\n",
       "0  2aFiy99vNLklCx3T_tGS9A  NxL8SIC5yqOdnlXCg18IBg    5.0   \n",
       "1  2aFiy99vNLklCx3T_tGS9A  pXbbIgOXvLuTi_SPs1hQEQ    5.0   \n",
       "2  2aFiy99vNLklCx3T_tGS9A  wslW2Lu4NYylb1jEapAGsw    5.0   \n",
       "3  2LfIuF3_sX6uwe-IR-P0jQ  GP6YEearUWrzPtQYSF1vVg    5.0   \n",
       "4  2LfIuF3_sX6uwe-IR-P0jQ  25RlYGq2s5qShi-pn3ufVA    4.0   \n",
       "\n",
       "                                                text    type  \\\n",
       "0  If you enjoy service by someone who is as comp...  review   \n",
       "1  After being on the phone with Verizon Wireless...  review   \n",
       "2  Great service! Corey is very service oriented....  review   \n",
       "3  Highly recommended. Went in yesterday looking ...  review   \n",
       "4  I walked in here looking for a specific piece ...  review   \n",
       "\n",
       "                  user_id  \n",
       "0  KpkOkG6RIf4Ra25Lhhxf1A  \n",
       "1  bQ7fQq1otn9hKX-gXRsrgA  \n",
       "2  r1NUhdNmL6yU9Bn-Yx6FTw  \n",
       "3  aW3ix1KNZAvoM8q-WghA3Q  \n",
       "4  YOo-Cip8HqvKp_p9nEGphw  "
      ]
     },
     "execution_count": 9,
     "metadata": {},
     "output_type": "execute_result"
    }
   ],
   "source": [
    "df_reduced = df_full.drop(['useful','cool', 'date', 'funny'], axis = 1)\n",
    "df_reduced.head()"
   ]
  },
  {
   "cell_type": "markdown",
   "metadata": {},
   "source": [
    "## 2.e. Merging the business data with the review data"
   ]
  },
  {
   "cell_type": "markdown",
   "metadata": {},
   "source": [
    "Merging the business data and the review data on the 'business_id'. Information like 'city' of the business and 'categories' of the business were taken from the business data file."
   ]
  },
  {
   "cell_type": "code",
   "execution_count": 10,
   "metadata": {
    "scrolled": true
   },
   "outputs": [
    {
     "data": {
      "text/html": [
       "<div>\n",
       "<style scoped>\n",
       "    .dataframe tbody tr th:only-of-type {\n",
       "        vertical-align: middle;\n",
       "    }\n",
       "\n",
       "    .dataframe tbody tr th {\n",
       "        vertical-align: top;\n",
       "    }\n",
       "\n",
       "    .dataframe thead th {\n",
       "        text-align: right;\n",
       "    }\n",
       "</style>\n",
       "<table border=\"1\" class=\"dataframe\">\n",
       "  <thead>\n",
       "    <tr style=\"text-align: right;\">\n",
       "      <th></th>\n",
       "      <th>business_id</th>\n",
       "      <th>review_id</th>\n",
       "      <th>stars</th>\n",
       "      <th>text</th>\n",
       "      <th>type</th>\n",
       "      <th>user_id</th>\n",
       "      <th>city</th>\n",
       "      <th>categories</th>\n",
       "    </tr>\n",
       "  </thead>\n",
       "  <tbody>\n",
       "    <tr>\n",
       "      <th>0</th>\n",
       "      <td>2aFiy99vNLklCx3T_tGS9A</td>\n",
       "      <td>NxL8SIC5yqOdnlXCg18IBg</td>\n",
       "      <td>5.0</td>\n",
       "      <td>If you enjoy service by someone who is as comp...</td>\n",
       "      <td>review</td>\n",
       "      <td>KpkOkG6RIf4Ra25Lhhxf1A</td>\n",
       "      <td>Phoenix</td>\n",
       "      <td>IT Services &amp; Computer Repair, Local Services,...</td>\n",
       "    </tr>\n",
       "    <tr>\n",
       "      <th>1</th>\n",
       "      <td>2aFiy99vNLklCx3T_tGS9A</td>\n",
       "      <td>pXbbIgOXvLuTi_SPs1hQEQ</td>\n",
       "      <td>5.0</td>\n",
       "      <td>After being on the phone with Verizon Wireless...</td>\n",
       "      <td>review</td>\n",
       "      <td>bQ7fQq1otn9hKX-gXRsrgA</td>\n",
       "      <td>Phoenix</td>\n",
       "      <td>IT Services &amp; Computer Repair, Local Services,...</td>\n",
       "    </tr>\n",
       "    <tr>\n",
       "      <th>2</th>\n",
       "      <td>2aFiy99vNLklCx3T_tGS9A</td>\n",
       "      <td>wslW2Lu4NYylb1jEapAGsw</td>\n",
       "      <td>5.0</td>\n",
       "      <td>Great service! Corey is very service oriented....</td>\n",
       "      <td>review</td>\n",
       "      <td>r1NUhdNmL6yU9Bn-Yx6FTw</td>\n",
       "      <td>Phoenix</td>\n",
       "      <td>IT Services &amp; Computer Repair, Local Services,...</td>\n",
       "    </tr>\n",
       "    <tr>\n",
       "      <th>3</th>\n",
       "      <td>2LfIuF3_sX6uwe-IR-P0jQ</td>\n",
       "      <td>GP6YEearUWrzPtQYSF1vVg</td>\n",
       "      <td>5.0</td>\n",
       "      <td>Highly recommended. Went in yesterday looking ...</td>\n",
       "      <td>review</td>\n",
       "      <td>aW3ix1KNZAvoM8q-WghA3Q</td>\n",
       "      <td>Phoenix</td>\n",
       "      <td>Antiques, Home &amp; Garden, Home Decor, Shopping</td>\n",
       "    </tr>\n",
       "    <tr>\n",
       "      <th>4</th>\n",
       "      <td>2LfIuF3_sX6uwe-IR-P0jQ</td>\n",
       "      <td>25RlYGq2s5qShi-pn3ufVA</td>\n",
       "      <td>4.0</td>\n",
       "      <td>I walked in here looking for a specific piece ...</td>\n",
       "      <td>review</td>\n",
       "      <td>YOo-Cip8HqvKp_p9nEGphw</td>\n",
       "      <td>Phoenix</td>\n",
       "      <td>Antiques, Home &amp; Garden, Home Decor, Shopping</td>\n",
       "    </tr>\n",
       "  </tbody>\n",
       "</table>\n",
       "</div>"
      ],
      "text/plain": [
       "              business_id               review_id  stars  \\\n",
       "0  2aFiy99vNLklCx3T_tGS9A  NxL8SIC5yqOdnlXCg18IBg    5.0   \n",
       "1  2aFiy99vNLklCx3T_tGS9A  pXbbIgOXvLuTi_SPs1hQEQ    5.0   \n",
       "2  2aFiy99vNLklCx3T_tGS9A  wslW2Lu4NYylb1jEapAGsw    5.0   \n",
       "3  2LfIuF3_sX6uwe-IR-P0jQ  GP6YEearUWrzPtQYSF1vVg    5.0   \n",
       "4  2LfIuF3_sX6uwe-IR-P0jQ  25RlYGq2s5qShi-pn3ufVA    4.0   \n",
       "\n",
       "                                                text    type  \\\n",
       "0  If you enjoy service by someone who is as comp...  review   \n",
       "1  After being on the phone with Verizon Wireless...  review   \n",
       "2  Great service! Corey is very service oriented....  review   \n",
       "3  Highly recommended. Went in yesterday looking ...  review   \n",
       "4  I walked in here looking for a specific piece ...  review   \n",
       "\n",
       "                  user_id     city  \\\n",
       "0  KpkOkG6RIf4Ra25Lhhxf1A  Phoenix   \n",
       "1  bQ7fQq1otn9hKX-gXRsrgA  Phoenix   \n",
       "2  r1NUhdNmL6yU9Bn-Yx6FTw  Phoenix   \n",
       "3  aW3ix1KNZAvoM8q-WghA3Q  Phoenix   \n",
       "4  YOo-Cip8HqvKp_p9nEGphw  Phoenix   \n",
       "\n",
       "                                          categories  \n",
       "0  IT Services & Computer Repair, Local Services,...  \n",
       "1  IT Services & Computer Repair, Local Services,...  \n",
       "2  IT Services & Computer Repair, Local Services,...  \n",
       "3      Antiques, Home & Garden, Home Decor, Shopping  \n",
       "4      Antiques, Home & Garden, Home Decor, Shopping  "
      ]
     },
     "execution_count": 10,
     "metadata": {},
     "output_type": "execute_result"
    }
   ],
   "source": [
    "df_merged = df_reduced.merge(df_bus[['city','categories', 'business_id']], how = 'outer', on= 'business_id')\n",
    "df_merged.head()"
   ]
  },
  {
   "cell_type": "code",
   "execution_count": 11,
   "metadata": {},
   "outputs": [],
   "source": [
    "df_cleaned = df_merged.dropna()"
   ]
  },
  {
   "cell_type": "markdown",
   "metadata": {},
   "source": [
    "## 2.f. Getting the top Business and City for which highest number of reviews are obtained"
   ]
  },
  {
   "cell_type": "code",
   "execution_count": 12,
   "metadata": {},
   "outputs": [],
   "source": [
    "def topm_num_reviews_for_city_n_biz(df,m):\n",
    "    business_city_count = {}\n",
    "    n = len(df)\n",
    "    for i in range(n):\n",
    "        k1 = str(df.categories.iloc[i]).split(',')\n",
    "        k2 = df.city.iloc[i]\n",
    "        for j in k1:\n",
    "            k = (j,k2)\n",
    "            if k not in business_city_count.keys():\n",
    "                business_city_count[k] = 1\n",
    "            else:\n",
    "                business_city_count[k] += 1\n",
    "    business_city_count_series = pd.Series(business_city_count)\n",
    "    business_city_count_series.sort_values(ascending = False, inplace = True)\n",
    "    return business_city_count_series"
   ]
  },
  {
   "cell_type": "code",
   "execution_count": 13,
   "metadata": {
    "scrolled": true
   },
   "outputs": [
    {
     "data": {
      "text/plain": [
       "<matplotlib.axes._subplots.AxesSubplot at 0x1a1f3976a0>"
      ]
     },
     "execution_count": 13,
     "metadata": {},
     "output_type": "execute_result"
    },
    {
     "data": {
      "image/png": "[encoded data removed]",
      "text/plain": [
       "<Figure size 432x288 with 1 Axes>"
      ]
     },
     "metadata": {
      "needs_background": "light"
     },
     "output_type": "display_data"
    }
   ],
   "source": [
    "review_business_city = topm_num_reviews_for_city_n_biz(df_cleaned,10)\n",
    "review_business_city[:30].plot(kind = 'bar')"
   ]
  },
  {
   "cell_type": "code",
   "execution_count": null,
   "metadata": {},
   "outputs": [],
   "source": [
    "rest_phoenix_reviews = df_cleaned[(df_cleaned.city == 'Phoenix') & (df_cleaned.categories.str.contains('.Restaurant.', case= False))]\n",
    "rest_phoenix_reviews.shape"
   ]
  },
  {
   "cell_type": "code",
   "execution_count": null,
   "metadata": {},
   "outputs": [],
   "source": [
    "rest_toronto_reviews = df_cleaned[(df_cleaned.city == 'Toronto') & (df_cleaned.categories.str.contains('.Restaurant.', case= False))]\n",
    "rest_toronto_reviews.shape"
   ]
  },
  {
   "cell_type": "code",
   "execution_count": 14,
   "metadata": {},
   "outputs": [
    {
     "data": {
      "text/plain": [
       "(476693, 8)"
      ]
     },
     "execution_count": 14,
     "metadata": {},
     "output_type": "execute_result"
    }
   ],
   "source": [
    "rest_reviews = df_cleaned[((df_cleaned.city == 'Phoenix')|(df_cleaned.city == 'Toronto')) & (df_cleaned.categories.str.contains('.Restaurant.', case= False))]\n",
    "rest_reviews.shape"
   ]
  },
  {
   "cell_type": "code",
   "execution_count": 15,
   "metadata": {},
   "outputs": [
    {
     "data": {
      "text/html": [
       "<div>\n",
       "<style scoped>\n",
       "    .dataframe tbody tr th:only-of-type {\n",
       "        vertical-align: middle;\n",
       "    }\n",
       "\n",
       "    .dataframe tbody tr th {\n",
       "        vertical-align: top;\n",
       "    }\n",
       "\n",
       "    .dataframe thead th {\n",
       "        text-align: right;\n",
       "    }\n",
       "</style>\n",
       "<table border=\"1\" class=\"dataframe\">\n",
       "  <thead>\n",
       "    <tr style=\"text-align: right;\">\n",
       "      <th></th>\n",
       "      <th>business_id</th>\n",
       "      <th>review_id</th>\n",
       "      <th>stars</th>\n",
       "      <th>text</th>\n",
       "      <th>type</th>\n",
       "      <th>user_id</th>\n",
       "      <th>city</th>\n",
       "      <th>categories</th>\n",
       "    </tr>\n",
       "  </thead>\n",
       "  <tbody>\n",
       "    <tr>\n",
       "      <th>198</th>\n",
       "      <td>0BJK4_RQnNiiXJcYPEgG3w</td>\n",
       "      <td>asHvvC1mUN_hweRw8DeRkA</td>\n",
       "      <td>4.0</td>\n",
       "      <td>The service was friendly and attentive without...</td>\n",
       "      <td>review</td>\n",
       "      <td>2QhYG5gwEReX7qC_EE7jaA</td>\n",
       "      <td>Toronto</td>\n",
       "      <td>Himalayan/Nepalese, Indian, Restaurants</td>\n",
       "    </tr>\n",
       "    <tr>\n",
       "      <th>199</th>\n",
       "      <td>0BJK4_RQnNiiXJcYPEgG3w</td>\n",
       "      <td>3gdXLrmOWfriU8JCNBnjng</td>\n",
       "      <td>5.0</td>\n",
       "      <td>What everyone else said!  I'd like to put a go...</td>\n",
       "      <td>review</td>\n",
       "      <td>puKCWAzXbY4QfpMBOkVEKg</td>\n",
       "      <td>Toronto</td>\n",
       "      <td>Himalayan/Nepalese, Indian, Restaurants</td>\n",
       "    </tr>\n",
       "    <tr>\n",
       "      <th>200</th>\n",
       "      <td>0BJK4_RQnNiiXJcYPEgG3w</td>\n",
       "      <td>vAeDysRFfOtk3wJSBhqbOg</td>\n",
       "      <td>5.0</td>\n",
       "      <td>This place is great - nice food, not very expe...</td>\n",
       "      <td>review</td>\n",
       "      <td>MdjsjgFRXf1g5nIxSL-1zQ</td>\n",
       "      <td>Toronto</td>\n",
       "      <td>Himalayan/Nepalese, Indian, Restaurants</td>\n",
       "    </tr>\n",
       "    <tr>\n",
       "      <th>201</th>\n",
       "      <td>0BJK4_RQnNiiXJcYPEgG3w</td>\n",
       "      <td>TcRW-Sg7AvyN6RY_nNY9IA</td>\n",
       "      <td>2.0</td>\n",
       "      <td>so disappointed !\\n\\ni had fairly high hopes f...</td>\n",
       "      <td>review</td>\n",
       "      <td>goyBp2yzRfBRzfRVKy9t9Q</td>\n",
       "      <td>Toronto</td>\n",
       "      <td>Himalayan/Nepalese, Indian, Restaurants</td>\n",
       "    </tr>\n",
       "    <tr>\n",
       "      <th>202</th>\n",
       "      <td>0BJK4_RQnNiiXJcYPEgG3w</td>\n",
       "      <td>_fKKTE17IGF3rTbs3HEGmw</td>\n",
       "      <td>3.0</td>\n",
       "      <td>Pretty good nepalese food. The portions are a ...</td>\n",
       "      <td>review</td>\n",
       "      <td>X5whw8WcB8dVZGZ5vGnSLg</td>\n",
       "      <td>Toronto</td>\n",
       "      <td>Himalayan/Nepalese, Indian, Restaurants</td>\n",
       "    </tr>\n",
       "  </tbody>\n",
       "</table>\n",
       "</div>"
      ],
      "text/plain": [
       "                business_id               review_id  stars  \\\n",
       "198  0BJK4_RQnNiiXJcYPEgG3w  asHvvC1mUN_hweRw8DeRkA    4.0   \n",
       "199  0BJK4_RQnNiiXJcYPEgG3w  3gdXLrmOWfriU8JCNBnjng    5.0   \n",
       "200  0BJK4_RQnNiiXJcYPEgG3w  vAeDysRFfOtk3wJSBhqbOg    5.0   \n",
       "201  0BJK4_RQnNiiXJcYPEgG3w  TcRW-Sg7AvyN6RY_nNY9IA    2.0   \n",
       "202  0BJK4_RQnNiiXJcYPEgG3w  _fKKTE17IGF3rTbs3HEGmw    3.0   \n",
       "\n",
       "                                                  text    type  \\\n",
       "198  The service was friendly and attentive without...  review   \n",
       "199  What everyone else said!  I'd like to put a go...  review   \n",
       "200  This place is great - nice food, not very expe...  review   \n",
       "201  so disappointed !\\n\\ni had fairly high hopes f...  review   \n",
       "202  Pretty good nepalese food. The portions are a ...  review   \n",
       "\n",
       "                    user_id     city                               categories  \n",
       "198  2QhYG5gwEReX7qC_EE7jaA  Toronto  Himalayan/Nepalese, Indian, Restaurants  \n",
       "199  puKCWAzXbY4QfpMBOkVEKg  Toronto  Himalayan/Nepalese, Indian, Restaurants  \n",
       "200  MdjsjgFRXf1g5nIxSL-1zQ  Toronto  Himalayan/Nepalese, Indian, Restaurants  \n",
       "201  goyBp2yzRfBRzfRVKy9t9Q  Toronto  Himalayan/Nepalese, Indian, Restaurants  \n",
       "202  X5whw8WcB8dVZGZ5vGnSLg  Toronto  Himalayan/Nepalese, Indian, Restaurants  "
      ]
     },
     "execution_count": 15,
     "metadata": {},
     "output_type": "execute_result"
    }
   ],
   "source": [
    "rest_reviews.head()"
   ]
  },
  {
   "cell_type": "code",
   "execution_count": 16,
   "metadata": {},
   "outputs": [
    {
     "name": "stdout",
     "output_type": "stream",
     "text": [
      "Populating the interactive namespace from numpy and matplotlib\n"
     ]
    }
   ],
   "source": [
    "%pylab inline\n",
    "import warnings\n",
    "warnings.filterwarnings('ignore')\n",
    "from IPython.core.interactiveshell import InteractiveShell\n",
    "InteractiveShell.ast_node_interactivity = \"all\"\n",
    "import nltk\n",
    "from nltk.corpus import stopwords\n",
    "import pandas as pd\n",
    "import numpy as np\n",
    "import matplotlib.pyplot as plt"
   ]
  },
  {
   "cell_type": "code",
   "execution_count": 17,
   "metadata": {},
   "outputs": [],
   "source": [
    "def get_clean_df(df, min_user_review = 30, min_res_review = 0, cols = ['user_id', 'business_id', 'stars']):\n",
    "    '''Cleans the df and gets rid of the unwanted cols and also allows to filter the user and business based on the min number of reviews received'''\n",
    "    df_new = df[cols]\n",
    "    df_new.dropna(axis = 0, how = 'any', inplace = True)\n",
    "    df_new[cols[1]+'_freq'] = df_new.groupby(cols[1])[cols[1]].transform('count')\n",
    "    df_clean = df_new[df_new[cols[1]+'_freq']>=min_res_review]\n",
    "    df_clean[cols[0]+'_freq'] = df_clean.groupby(cols[0])[cols[0]].transform('count')\n",
    "    df_clean_2 = df_clean[df_clean[cols[0]+'_freq']>=min_user_review]\n",
    "    return df_clean_2"
   ]
  },
  {
   "cell_type": "code",
   "execution_count": 18,
   "metadata": {},
   "outputs": [],
   "source": [
    "def get_sparsity(sparse_matrix):\n",
    "    return 1 - sparse_matrix.nnz/(sparse_matrix.shape[0]*sparse_matrix.shape[1])"
   ]
  },
  {
   "cell_type": "code",
   "execution_count": 19,
   "metadata": {},
   "outputs": [],
   "source": [
    "def get_sparse_matrix(df):\n",
    "    '''Converts the df into a sparse ratings matrix'''\n",
    "    unique_users = list(df['user_id'].unique())\n",
    "    unique_bus = list(df['business_id'].unique())\n",
    "    data = df['stars'].tolist()\n",
    "    row = df['user_id'].astype('category', categories=unique_users).cat.codes\n",
    "    col = df['business_id'].astype('category', categories=unique_bus).cat.codes\n",
    "    sparse_matrix = csr_matrix((data, (row, col)), shape=(len(unique_users), len(unique_bus)))\n",
    "    return sparse_matrix"
   ]
  },
  {
   "cell_type": "code",
   "execution_count": 20,
   "metadata": {},
   "outputs": [
    {
     "name": "stdout",
     "output_type": "stream",
     "text": [
      "0.9947818075355228\n",
      "0.9927689278438381\n",
      "(3141, 8408)\n",
      "(1797, 8155)\n"
     ]
    }
   ],
   "source": [
    "u_20_phx = get_sparse_matrix(get_clean_df(rest_reviews, min_user_review=20))\n",
    "u_30_phx = get_sparse_matrix(get_clean_df(rest_reviews, min_user_review=30))\n",
    "print(get_sparsity(u_20_phx))\n",
    "print(get_sparsity(u_30_phx))\n",
    "print(u_20_phx.shape)\n",
    "print(u_30_phx.shape)"
   ]
  },
  {
   "cell_type": "code",
   "execution_count": 21,
   "metadata": {},
   "outputs": [
    {
     "name": "stdout",
     "output_type": "stream",
     "text": [
      "Number of Reviews for Restaurants in Phoenix and Toronto:  202982\n"
     ]
    }
   ],
   "source": [
    "user_min_10_res = get_clean_df(rest_reviews, min_user_review=10)\n",
    "print(\"Number of Reviews for Restaurants in Phoenix and Toronto: \", user_min_10_res.shape[0])"
   ]
  },
  {
   "cell_type": "code",
   "execution_count": 22,
   "metadata": {},
   "outputs": [],
   "source": [
    "# Creating X and Y for the classifier. X is the review text and Y is the rating\n",
    "x = rest_reviews['text']\n",
    "y = rest_reviews['stars']"
   ]
  },
  {
   "cell_type": "code",
   "execution_count": 23,
   "metadata": {},
   "outputs": [],
   "source": [
    "import string\n",
    "def text_preprocessing(text):\n",
    "    no_punctuation = [ch for ch in text if ch not in string.punctuation]\n",
    "    no_punctuation = ''.join(no_punctuation)\n",
    "    return [w for w in no_punctuation.split() if w.lower() not in stopwords.words('english')]"
   ]
  },
  {
   "cell_type": "code",
   "execution_count": 24,
   "metadata": {},
   "outputs": [
    {
     "name": "stdout",
     "output_type": "stream",
     "text": [
      "CPU times: user 2h 35min 54s, sys: 31min 1s, total: 3h 6min 55s\n",
      "Wall time: 3h 6min 56s\n"
     ]
    }
   ],
   "source": [
    "%%time\n",
    "# Estimated time: 30 min\n",
    "\n",
    "# Vectorization\n",
    "# Converting each review into a vector using bag-of-words approach\n",
    "\n",
    "from sklearn.feature_extraction.text import CountVectorizer\n",
    "vector = CountVectorizer(analyzer=text_preprocessing).fit(x)\n",
    "x = vector.transform(x)"
   ]
  },
  {
   "cell_type": "code",
   "execution_count": 25,
   "metadata": {},
   "outputs": [
    {
     "data": {
      "text/plain": [
       "MultinomialNB(alpha=1.0, class_prior=None, fit_prior=True)"
      ]
     },
     "execution_count": 25,
     "metadata": {},
     "output_type": "execute_result"
    }
   ],
   "source": [
    "# Spitting data into training and test set\n",
    "from sklearn.model_selection import train_test_split\n",
    "X_train, X_test, Y_train, Y_test = train_test_split(x, y, test_size=0.20, random_state=0, shuffle =False)\n",
    "\n",
    "# Building Multinomial Naive Bayes model and fit it to our training set\n",
    "from sklearn.naive_bayes import MultinomialNB\n",
    "classifier = MultinomialNB()\n",
    "classifier.fit(X_train, Y_train)"
   ]
  },
  {
   "cell_type": "code",
   "execution_count": 26,
   "metadata": {},
   "outputs": [
    {
     "name": "stdout",
     "output_type": "stream",
     "text": [
      "Actual Ratings(Stars): "
     ]
    },
    {
     "data": {
      "text/plain": [
       "3341120    5.0\n",
       "3341121    4.0\n",
       "3341122    5.0\n",
       "3341123    5.0\n",
       "3341124    5.0\n",
       "3341125    3.0\n",
       "3341126    5.0\n",
       "3341127    5.0\n",
       "3341128    4.0\n",
       "3341129    4.0\n",
       "3341130    5.0\n",
       "3341131    5.0\n",
       "3341132    5.0\n",
       "3341133    4.0\n",
       "3341134    4.0\n",
       "Name: stars, dtype: float64"
      ]
     },
     "metadata": {},
     "output_type": "display_data"
    },
    {
     "name": "stdout",
     "output_type": "stream",
     "text": [
      "Predicted Ratings: [5. 4. 5. 5. 3. 3. 5. 5. 5. 4. 5. 5. 5. 5. 4.]\n"
     ]
    }
   ],
   "source": [
    "# Using our trained classifier to predict the ratings from text\n",
    "# Testing our model on the test set\n",
    "\n",
    "preds = classifier.predict(X_test)\n",
    "print(\"Actual Ratings(Stars): \",end = \"\")\n",
    "display(Y_test[:15])\n",
    "print(\"Predicted Ratings: \",end = \"\")\n",
    "print(preds[:15])"
   ]
  },
  {
   "cell_type": "code",
   "execution_count": 27,
   "metadata": {},
   "outputs": [
    {
     "data": {
      "text/plain": [
       "0.5824478964537073"
      ]
     },
     "execution_count": 27,
     "metadata": {},
     "output_type": "execute_result"
    }
   ],
   "source": [
    "# Accuracy of the model\n",
    "\n",
    "from sklearn.metrics import accuracy_score\n",
    "accuracy_score(Y_test, preds)"
   ]
  },
  {
   "cell_type": "code",
   "execution_count": 28,
   "metadata": {},
   "outputs": [
    {
     "name": "stdout",
     "output_type": "stream",
     "text": [
      "Precision: 0.5737067845825599\n",
      "Recall: 0.5824478964537073\n"
     ]
    }
   ],
   "source": [
    "from sklearn.metrics import precision_score\n",
    "from sklearn.metrics import recall_score\n",
    "print ('Precision: ' + str(precision_score(Y_test, preds, average='weighted')))\n",
    "print ('Recall: ' + str(recall_score(Y_test,preds, average='weighted')))"
   ]
  },
  {
   "cell_type": "code",
   "execution_count": 29,
   "metadata": {},
   "outputs": [
    {
     "name": "stdout",
     "output_type": "stream",
     "text": [
      "[[ 5703  1782   680   282   213]\n",
      " [ 1998  2734  3044   954   361]\n",
      " [  871  1319  5870  5602   990]\n",
      " [  466   389  2581 16267  9505]\n",
      " [  410   149   454  7759 24956]]\n",
      "\n",
      "\n",
      "              precision    recall  f1-score   support\n",
      "\n",
      "         1.0       0.60      0.66      0.63      8660\n",
      "         2.0       0.43      0.30      0.35      9091\n",
      "         3.0       0.46      0.40      0.43     14652\n",
      "         4.0       0.53      0.56      0.54     29208\n",
      "         5.0       0.69      0.74      0.72     33728\n",
      "\n",
      "   micro avg       0.58      0.58      0.58     95339\n",
      "   macro avg       0.54      0.53      0.53     95339\n",
      "weighted avg       0.57      0.58      0.58     95339\n",
      "\n"
     ]
    }
   ],
   "source": [
    "# Evaluating the model\n",
    "from sklearn.metrics import confusion_matrix, classification_report\n",
    "print(confusion_matrix(Y_test, preds))\n",
    "print('\\n')\n",
    "print(classification_report(Y_test, preds))"
   ]
  },
  {
   "cell_type": "code",
   "execution_count": 30,
   "metadata": {},
   "outputs": [],
   "source": [
    "# citation: http://scikit-learn.org/stable/auto_examples/model_selection/plot_confusion_matrix.html#sphx-glr-auto-examples-model-selection-plot-confusion-matrix-py\n",
    "import itertools  \n",
    "def plot_confusion_matrix(cm, classes,\n",
    "                          normalize=False,\n",
    "                          title='Confusion matrix',\n",
    "                          cmap=plt.cm.Blues):\n",
    "    \"\"\"\n",
    "    This function prints and plots the confusion matrix.\n",
    "    Normalization can be applied by setting `normalize=True`.\n",
    "    \"\"\"\n",
    "    if normalize:\n",
    "        cm = cm.astype('float') / cm.sum(axis=1)[:, np.newaxis]\n",
    "        print(\"Normalized confusion matrix\")\n",
    "    else:\n",
    "        print('Confusion matrix, without normalization')\n",
    "\n",
    "    print(cm)\n",
    "\n",
    "    plt.imshow(cm, interpolation='nearest', cmap=cmap)\n",
    "    plt.title(title)\n",
    "    plt.colorbar()\n",
    "    tick_marks = np.arange(len(classes))\n",
    "    plt.xticks(tick_marks, classes, rotation=45)\n",
    "    plt.yticks(tick_marks, classes)\n",
    "\n",
    "    fmt = '.2f' if normalize else 'd'\n",
    "    thresh = cm.max() / 2.\n",
    "    for i, j in itertools.product(range(cm.shape[0]), range(cm.shape[1])):\n",
    "        plt.text(j, i, format(cm[i, j], fmt),\n",
    "                 horizontalalignment=\"center\",\n",
    "                 color=\"white\" if cm[i, j] > thresh else \"black\")\n",
    "\n",
    "    plt.tight_layout()\n",
    "    plt.ylabel('True label')\n",
    "    plt.xlabel('Predicted label')"
   ]
  },
  {
   "cell_type": "code",
   "execution_count": 31,
   "metadata": {},
   "outputs": [
    {
     "data": {
      "text/plain": [
       "<Figure size 432x288 with 0 Axes>"
      ]
     },
     "execution_count": 31,
     "metadata": {},
     "output_type": "execute_result"
    },
    {
     "name": "stdout",
     "output_type": "stream",
     "text": [
      "Confusion matrix, without normalization\n",
      "[[ 5703  1782   680   282   213]\n",
      " [ 1998  2734  3044   954   361]\n",
      " [  871  1319  5870  5602   990]\n",
      " [  466   389  2581 16267  9505]\n",
      " [  410   149   454  7759 24956]]\n"
     ]
    },
    {
     "data": {
      "text/plain": [
       "<Figure size 432x288 with 0 Axes>"
      ]
     },
     "execution_count": 31,
     "metadata": {},
     "output_type": "execute_result"
    },
    {
     "name": "stdout",
     "output_type": "stream",
     "text": [
      "Normalized confusion matrix\n",
      "[[0.66 0.21 0.08 0.03 0.02]\n",
      " [0.22 0.3  0.33 0.1  0.04]\n",
      " [0.06 0.09 0.4  0.38 0.07]\n",
      " [0.02 0.01 0.09 0.56 0.33]\n",
      " [0.01 0.   0.01 0.23 0.74]]\n"
     ]
    },
    {
     "data": {
      "image/png": "[encoded data removed]",
      "text/plain": [
       "<Figure size 432x288 with 2 Axes>"
      ]
     },
     "metadata": {
      "needs_background": "light"
     },
     "output_type": "display_data"
    },
    {
     "data": {
      "image/png": "[encoded data removed]",
      "text/plain": [
       "<Figure size 432x288 with 2 Axes>"
      ]
     },
     "metadata": {
      "needs_background": "light"
     },
     "output_type": "display_data"
    }
   ],
   "source": [
    "from sklearn import metrics\n",
    "class_names = ['1','2','3','4','5']\n",
    "\n",
    "# Compute confusion matrix\n",
    "cnf_matrix = metrics.confusion_matrix(Y_test, preds\n",
    "                                     )\n",
    "np.set_printoptions(precision=2)\n",
    "\n",
    "# Plot non-normalized confusion matrix\n",
    "plt.figure()\n",
    "plot_confusion_matrix(cnf_matrix, classes=class_names,\n",
    "                      title='Confusion matrix, without normalization')\n",
    "\n",
    "# Plot normalized confusion matrix\n",
    "plt.figure()\n",
    "plot_confusion_matrix(cnf_matrix, classes=class_names, normalize=True,\n",
    "                      title='Normalized confusion matrix')\n",
    "\n",
    "plt.show()"
   ]
  },
  {
   "cell_type": "code",
   "execution_count": null,
   "metadata": {},
   "outputs": [],
   "source": []
  },
  {
   "cell_type": "code",
   "execution_count": null,
   "metadata": {},
   "outputs": [],
   "source": []
  },
  {
   "cell_type": "code",
   "execution_count": null,
   "metadata": {},
   "outputs": [],
   "source": []
  },
  {
   "cell_type": "code",
   "execution_count": null,
   "metadata": {},
   "outputs": [],
   "source": []
  },
  {
   "cell_type": "code",
   "execution_count": null,
   "metadata": {},
   "outputs": [],
   "source": []
  },
  {
   "cell_type": "code",
   "execution_count": 26,
   "metadata": {},
   "outputs": [
    {
     "name": "stderr",
     "output_type": "stream",
     "text": [
      "/Users/chipchop/anaconda3/lib/python3.7/site-packages/ipykernel_launcher.py:4: SettingWithCopyWarning: \n",
      "A value is trying to be set on a copy of a slice from a DataFrame\n",
      "\n",
      "See the caveats in the documentation: http://pandas.pydata.org/pandas-docs/stable/indexing.html#indexing-view-versus-copy\n",
      "  after removing the cwd from sys.path.\n",
      "/Users/chipchop/anaconda3/lib/python3.7/site-packages/ipykernel_launcher.py:5: SettingWithCopyWarning: \n",
      "A value is trying to be set on a copy of a slice from a DataFrame.\n",
      "Try using .loc[row_indexer,col_indexer] = value instead\n",
      "\n",
      "See the caveats in the documentation: http://pandas.pydata.org/pandas-docs/stable/indexing.html#indexing-view-versus-copy\n",
      "  \"\"\"\n"
     ]
    },
    {
     "name": "stdout",
     "output_type": "stream",
     "text": [
      "Number of Reviews for Restaurants in Phoenix:  87610\n",
      "Number of Reviews for Restaurants in Toronto:  114829\n"
     ]
    }
   ],
   "source": [
    "user_min_10_phoenix_res = get_clean_df(rest_phoenix_reviews, min_user_review=10)\n",
    "print(\"Number of Reviews for Restaurants in Phoenix: \", user_min_10_phoenix_res.shape[0])\n",
    "user_min_10_toronto_res = get_clean_df(rest_toronto_reviews, min_user_review=10)\n",
    "print(\"Number of Reviews for Restaurants in Toronto: \", user_min_10_toronto_res.shape[0])"
   ]
  },
  {
   "cell_type": "code",
   "execution_count": 27,
   "metadata": {},
   "outputs": [
    {
     "name": "stdout",
     "output_type": "stream",
     "text": [
      "Unique Restaurants in Phoenix = 3053\n",
      "Unique Users in Phoenix = 3829\n",
      "Unique Restaurants in Toronto = 5672\n",
      "Unique Users in Toronto = 4210\n"
     ]
    }
   ],
   "source": [
    "print(\"Unique Restaurants in Phoenix =\",len(user_min_10_phoenix_res.business_id.unique()))\n",
    "print(\"Unique Users in Phoenix =\",len(user_min_10_phoenix_res.user_id.unique()))\n",
    "print(\"Unique Restaurants in Toronto =\",len(user_min_10_toronto_res.business_id.unique()))\n",
    "print(\"Unique Users in Toronto =\",len(user_min_10_toronto_res.user_id.unique()))"
   ]
  },
  {
   "cell_type": "code",
   "execution_count": 28,
   "metadata": {},
   "outputs": [
    {
     "name": "stdout",
     "output_type": "stream",
     "text": [
      "Shape of ratings matrix for Restaurants in Phoenix = (3829, 3053)\n",
      "Shape of ratings matrix for Restaurants in Toronto = (4210, 5672)\n"
     ]
    },
    {
     "name": "stderr",
     "output_type": "stream",
     "text": [
      "/Users/chipchop/anaconda3/lib/python3.7/site-packages/ipykernel_launcher.py:6: FutureWarning: specifying 'categories' or 'ordered' in .astype() is deprecated; pass a CategoricalDtype instead\n",
      "  \n",
      "/Users/chipchop/anaconda3/lib/python3.7/site-packages/ipykernel_launcher.py:7: FutureWarning: specifying 'categories' or 'ordered' in .astype() is deprecated; pass a CategoricalDtype instead\n",
      "  import sys\n"
     ]
    }
   ],
   "source": [
    "sm_user_10_phoenix_rest = get_sparse_matrix(user_min_10_phoenix_res)\n",
    "print(\"Shape of ratings matrix for Restaurants in Phoenix =\",sm_user_10_phoenix_rest.shape)\n",
    "sm_user_10_toronto_rest = get_sparse_matrix(user_min_10_toronto_res)\n",
    "print(\"Shape of ratings matrix for Restaurants in Toronto =\",sm_user_10_toronto_rest.shape)"
   ]
  },
  {
   "cell_type": "code",
   "execution_count": 29,
   "metadata": {},
   "outputs": [
    {
     "name": "stdout",
     "output_type": "stream",
     "text": [
      "Sparsity of ratings matrix for Restaurants in Phoenix =  0.9925055199185419\n",
      "Sparsity of ratings matrix for Restaurants in Toronto =  0.9951912382030829\n"
     ]
    }
   ],
   "source": [
    "sparsity_phoenix = 1 - sm_user_10_phoenix_rest.nnz/(sm_user_10_phoenix_rest.shape[0]*sm_user_10_phoenix_rest.shape[1])\n",
    "sparsity_toronto = 1 - sm_user_10_toronto_rest.nnz/(sm_user_10_toronto_rest.shape[0]*sm_user_10_toronto_rest.shape[1])\n",
    "print(\"Sparsity of ratings matrix for Restaurants in Phoenix = \", sparsity_phoenix)\n",
    "print(\"Sparsity of ratings matrix for Restaurants in Toronto = \", sparsity_toronto)"
   ]
  },
  {
   "cell_type": "code",
   "execution_count": 30,
   "metadata": {},
   "outputs": [],
   "source": [
    "def train_val_test_split(sparse_matrix, num_review_val = 2, num_review_test = 2):\n",
    "    '''Split the rating matrix into train ,val, and test marix that are disjoint matrices'''\n",
    "    nzrows, nzcols =  sparse_matrix.nonzero()\n",
    "    sparse_matrix_test = csr_matrix(sparse_matrix.shape)\n",
    "    sparse_matrix_val = csr_matrix(sparse_matrix.shape)\n",
    "    sparse_matrix_train = sparse_matrix.copy()\n",
    "    n_users = sparse_matrix.shape[0]\n",
    "    for u in range(n_users):\n",
    "        idx = nzcols[np.where(nzrows == u)]\n",
    "        np.random.shuffle(idx)\n",
    "        test_idx = idx[-num_review_test:]\n",
    "        val_idx = idx[-(num_review_val+num_review_test):-num_review_test]\n",
    "        train_idx = idx[:-(num_review_val+num_review_test)]\n",
    "        sparse_matrix_test[u,test_idx] = sparse_matrix[u,test_idx]\n",
    "        sparse_matrix_val[u,val_idx] = sparse_matrix[u,val_idx]\n",
    "        sparse_matrix_train[u,test_idx] = 0\n",
    "        sparse_matrix_train[u,val_idx] = 0\n",
    "    data = np.array(sparse_matrix_train[sparse_matrix_train.nonzero()])[0]\n",
    "    row = sparse_matrix_train.nonzero()[0]\n",
    "    col = sparse_matrix_train.nonzero()[1]\n",
    "    size = sparse_matrix_train.shape\n",
    "    sparse_matrix_train = csr_matrix((data,(row,col)),shape = size)\n",
    "    mult = sparse_matrix_train.multiply(sparse_matrix_val)\n",
    "    mmult = mult.multiply(sparse_matrix_test)\n",
    "    assert(mmult.nnz == 0)\n",
    "    return sparse_matrix_train, sparse_matrix_val, sparse_matrix_test"
   ]
  },
  {
   "cell_type": "code",
   "execution_count": 31,
   "metadata": {
    "scrolled": true
   },
   "outputs": [
    {
     "name": "stderr",
     "output_type": "stream",
     "text": [
      "/Users/chipchop/anaconda3/lib/python3.7/site-packages/scipy/sparse/compressed.py:746: SparseEfficiencyWarning: Changing the sparsity structure of a csr_matrix is expensive. lil_matrix is more efficient.\n",
      "  SparseEfficiencyWarning)\n"
     ]
    }
   ],
   "source": [
    "sm_u_10_phx_res_train, sm_u_10_phx_res_val, sm_u_10_phx_res_test = train_val_test_split(sm_user_10_phoenix_rest)\n",
    "sm_u_10_trt_res_train, sm_u_10_trt_res_val, sm_u_10_trt_res_test =  train_val_test_split(sm_user_10_toronto_rest)"
   ]
  },
  {
   "cell_type": "code",
   "execution_count": 32,
   "metadata": {},
   "outputs": [
    {
     "name": "stdout",
     "output_type": "stream",
     "text": [
      "72294 7658 7658\n",
      "97989 8420 8420\n"
     ]
    }
   ],
   "source": [
    "print(sm_u_10_phx_res_train.nnz, sm_u_10_phx_res_val.nnz, sm_u_10_phx_res_test.nnz)\n",
    "print(sm_u_10_trt_res_train.nnz, sm_u_10_trt_res_val.nnz, sm_u_10_trt_res_test.nnz)"
   ]
  },
  {
   "cell_type": "code",
   "execution_count": 33,
   "metadata": {},
   "outputs": [],
   "source": [
    "u_20_train, u_20_val, u_20_test = train_val_test_split(u_20_phx, num_review_val= 7, num_review_test= 3)"
   ]
  },
  {
   "cell_type": "code",
   "execution_count": null,
   "metadata": {},
   "outputs": [],
   "source": []
  },
  {
   "cell_type": "code",
   "execution_count": null,
   "metadata": {},
   "outputs": [],
   "source": []
  },
  {
   "cell_type": "code",
   "execution_count": null,
   "metadata": {},
   "outputs": [],
   "source": []
  },
  {
   "cell_type": "code",
   "execution_count": null,
   "metadata": {},
   "outputs": [],
   "source": []
  },
  {
   "cell_type": "code",
   "execution_count": null,
   "metadata": {},
   "outputs": [],
   "source": []
  },
  {
   "cell_type": "code",
   "execution_count": null,
   "metadata": {},
   "outputs": [],
   "source": []
  },
  {
   "cell_type": "code",
   "execution_count": null,
   "metadata": {},
   "outputs": [],
   "source": []
  }
 ],
 "metadata": {
  "kernelspec": {
   "display_name": "Python 3",
   "language": "python",
   "name": "python3"
  },
  "language_info": {
   "codemirror_mode": {
    "name": "ipython",
    "version": 3
   },
   "file_extension": ".py",
   "mimetype": "text/x-python",
   "name": "python",
   "nbconvert_exporter": "python",
   "pygments_lexer": "ipython3",
   "version": "3.7.3"
  }
 },
 "nbformat": 4,
 "nbformat_minor": 2
}
